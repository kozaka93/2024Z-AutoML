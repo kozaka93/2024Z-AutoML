{
 "cells": [
  {
   "cell_type": "code",
   "execution_count": 1,
   "metadata": {},
   "outputs": [],
   "source": [
    "import pandas as pd\n",
    "import numpy as np\n",
    "from scipy.stats import wilcoxon"
   ]
  },
  {
   "cell_type": "markdown",
   "metadata": {},
   "source": [
    "Random Search"
   ]
  },
  {
   "cell_type": "code",
   "execution_count": 2,
   "metadata": {},
   "outputs": [],
   "source": [
    "history_DecisionTree = pd.read_csv('../history/history_dataset_DecisionTree.csv')\n",
    "history_RandomForest = pd.read_csv('../history/history_dataset_RandomForest.csv')\n",
    "history_XGBoost = pd.read_csv('../history/history_dataset_XGBoost.csv')"
   ]
  },
  {
   "cell_type": "code",
   "execution_count": 3,
   "metadata": {},
   "outputs": [],
   "source": [
    "history_bayes_DecisionTree = pd.read_csv('../history_bayes/history_bayes_all_DecisionTree.csv')\n",
    "history_bayes_RandomForest = pd.read_csv('../history_bayes/history_bayes_all_RandomForest.csv')\n",
    "history_bayes_XGBoost = pd.read_csv('../history_bayes/history_bayes_all_XGBoost.csv')"
   ]
  },
  {
   "cell_type": "code",
   "execution_count": 4,
   "metadata": {},
   "outputs": [],
   "source": [
    "alpha = 0.01"
   ]
  },
  {
   "cell_type": "code",
   "execution_count": 5,
   "metadata": {},
   "outputs": [],
   "source": [
    "def check_significance(sample1, sample2, alpha=0.01):\n",
    "    stat, p_value = wilcoxon(sample1, sample2)\n",
    "    if p_value < alpha:\n",
    "        print(f\"Istnieją istotne różnice między próbkami (p < 0.01), gdzie p = {p_value:.3e}\")\n",
    "    else:\n",
    "        print(f\"Brak istotnych różnic między próbkami (p >= 0.01), gdzie p = {p_value:.3e}\")"
   ]
  },
  {
   "cell_type": "markdown",
   "metadata": {},
   "source": [
    "Decision Tree"
   ]
  },
  {
   "cell_type": "code",
   "execution_count": 6,
   "metadata": {},
   "outputs": [
    {
     "name": "stdout",
     "output_type": "stream",
     "text": [
      "Istnieją istotne różnice między próbkami (p < 0.01), gdzie p = 1.712e-04\n"
     ]
    }
   ],
   "source": [
    "mean_DT_RS_0 = history_DecisionTree['mean_test_score'][0:100].tolist()\n",
    "mean_DT_BS_0 = history_bayes_DecisionTree['mean_test_score'][0:100].tolist()\n",
    "check_significance(mean_DT_RS_0, mean_DT_BS_0, alpha)"
   ]
  },
  {
   "cell_type": "code",
   "execution_count": 7,
   "metadata": {},
   "outputs": [
    {
     "name": "stdout",
     "output_type": "stream",
     "text": [
      "Istnieją istotne różnice między próbkami (p < 0.01), gdzie p = 4.367e-03\n"
     ]
    }
   ],
   "source": [
    "mean_DT_RS_1 = history_DecisionTree['mean_test_score'][1000:1100].tolist()\n",
    "mean_DT_BS_1 = history_bayes_DecisionTree['mean_test_score'][100:200].tolist()\n",
    "check_significance(mean_DT_RS_1, mean_DT_BS_1, alpha)"
   ]
  },
  {
   "cell_type": "code",
   "execution_count": 8,
   "metadata": {},
   "outputs": [
    {
     "name": "stdout",
     "output_type": "stream",
     "text": [
      "Istnieją istotne różnice między próbkami (p < 0.01), gdzie p = 1.776e-09\n"
     ]
    }
   ],
   "source": [
    "mean_DT_RS_2 = history_DecisionTree['mean_test_score'][2000:2100].tolist()\n",
    "mean_DT_BS_2 = history_bayes_DecisionTree['mean_test_score'][200:300].tolist()\n",
    "check_significance(mean_DT_RS_2, mean_DT_BS_2, alpha)"
   ]
  },
  {
   "cell_type": "code",
   "execution_count": 9,
   "metadata": {},
   "outputs": [
    {
     "name": "stdout",
     "output_type": "stream",
     "text": [
      "Istnieją istotne różnice między próbkami (p < 0.01), gdzie p = 2.290e-03\n"
     ]
    }
   ],
   "source": [
    "mean_DT_RS_3 = history_DecisionTree['mean_test_score'][3000:3100].tolist()\n",
    "mean_DT_BS_3 = history_bayes_DecisionTree['mean_test_score'][300:400].tolist()\n",
    "check_significance(mean_DT_RS_3, mean_DT_BS_3, alpha)"
   ]
  },
  {
   "cell_type": "markdown",
   "metadata": {},
   "source": [
    "Random Forest"
   ]
  },
  {
   "cell_type": "code",
   "execution_count": 10,
   "metadata": {},
   "outputs": [
    {
     "name": "stdout",
     "output_type": "stream",
     "text": [
      "Istnieją istotne różnice między próbkami (p < 0.01), gdzie p = 3.117e-13\n"
     ]
    }
   ],
   "source": [
    "mean_RF_RS_0 = history_RandomForest['mean_test_score'][0:100].tolist()\n",
    "mean_RF_BS_0 = history_bayes_RandomForest['mean_test_score'][0:100].tolist()\n",
    "check_significance(mean_RF_RS_0, mean_RF_BS_0, alpha)"
   ]
  },
  {
   "cell_type": "code",
   "execution_count": 11,
   "metadata": {},
   "outputs": [
    {
     "name": "stdout",
     "output_type": "stream",
     "text": [
      "Istnieją istotne różnice między próbkami (p < 0.01), gdzie p = 7.372e-13\n"
     ]
    }
   ],
   "source": [
    "mean_RF_RS_1 = history_RandomForest['mean_test_score'][1000:1100].tolist()\n",
    "mean_RF_BS_1 = history_bayes_RandomForest['mean_test_score'][100:200].tolist()\n",
    "check_significance(mean_RF_RS_1, mean_RF_BS_1, alpha)"
   ]
  },
  {
   "cell_type": "code",
   "execution_count": 13,
   "metadata": {},
   "outputs": [
    {
     "name": "stdout",
     "output_type": "stream",
     "text": [
      "Istnieją istotne różnice między próbkami (p < 0.01), gdzie p = 1.318e-09\n"
     ]
    }
   ],
   "source": [
    "mean_RF_RS_2 = history_RandomForest['mean_test_score'][2000:2100].tolist()\n",
    "mean_RF_BS_2 = history_bayes_RandomForest['mean_test_score'][200:300].tolist()\n",
    "check_significance(mean_RF_RS_2, mean_RF_BS_2, alpha)"
   ]
  },
  {
   "cell_type": "code",
   "execution_count": 12,
   "metadata": {},
   "outputs": [
    {
     "name": "stdout",
     "output_type": "stream",
     "text": [
      "Istnieją istotne różnice między próbkami (p < 0.01), gdzie p = 3.875e-03\n"
     ]
    }
   ],
   "source": [
    "mean_RF_RS_3 = history_RandomForest['mean_test_score'][3000:3100].tolist()\n",
    "mean_RF_BS_3 = history_bayes_RandomForest['mean_test_score'][300:400].tolist()\n",
    "check_significance(mean_RF_RS_3, mean_RF_BS_3, alpha)"
   ]
  },
  {
   "cell_type": "markdown",
   "metadata": {},
   "source": [
    "XGBoost"
   ]
  },
  {
   "cell_type": "code",
   "execution_count": 14,
   "metadata": {},
   "outputs": [
    {
     "name": "stdout",
     "output_type": "stream",
     "text": [
      "Istnieją istotne różnice między próbkami (p < 0.01), gdzie p = 7.950e-09\n"
     ]
    }
   ],
   "source": [
    "mean_XGB_RS_0 = history_XGBoost['mean_test_score'][0:100].tolist()\n",
    "mean_XGB_BS_0 = history_bayes_XGBoost['mean_test_score'][0:100].tolist()\n",
    "check_significance(mean_XGB_RS_0, mean_XGB_BS_0, alpha)"
   ]
  },
  {
   "cell_type": "code",
   "execution_count": 15,
   "metadata": {},
   "outputs": [
    {
     "name": "stdout",
     "output_type": "stream",
     "text": [
      "Brak istotnych różnic między próbkami (p >= 0.01), gdzie p = 5.504e-02\n"
     ]
    }
   ],
   "source": [
    "mean_XGB_RS_1 = history_XGBoost['mean_test_score'][1000:1100].tolist()\n",
    "mean_XGB_BS_1 = history_bayes_XGBoost['mean_test_score'][100:200].tolist()\n",
    "check_significance(mean_XGB_RS_1, mean_XGB_BS_1, alpha)"
   ]
  },
  {
   "cell_type": "code",
   "execution_count": 16,
   "metadata": {},
   "outputs": [
    {
     "name": "stdout",
     "output_type": "stream",
     "text": [
      "Brak istotnych różnic między próbkami (p >= 0.01), gdzie p = 1.687e-02\n"
     ]
    }
   ],
   "source": [
    "mean_XGB_RS_2 = history_XGBoost['mean_test_score'][2000:2100].tolist()\n",
    "mean_XGB_BS_2 = history_bayes_XGBoost['mean_test_score'][200:300].tolist()\n",
    "check_significance(mean_XGB_RS_2, mean_XGB_BS_2, alpha)"
   ]
  },
  {
   "cell_type": "code",
   "execution_count": 17,
   "metadata": {},
   "outputs": [
    {
     "name": "stdout",
     "output_type": "stream",
     "text": [
      "Brak istotnych różnic między próbkami (p >= 0.01), gdzie p = 1.478e-02\n"
     ]
    }
   ],
   "source": [
    "mean_RF_RS_3 = history_XGBoost['mean_test_score'][3000:3100].tolist()\n",
    "mean_RF_BS_3 = history_bayes_XGBoost['mean_test_score'][300:400].tolist()\n",
    "check_significance(mean_RF_RS_3, mean_RF_BS_3, alpha)"
   ]
  }
 ],
 "metadata": {
  "kernelspec": {
   "display_name": "Python 3",
   "language": "python",
   "name": "python3"
  },
  "language_info": {
   "codemirror_mode": {
    "name": "ipython",
    "version": 3
   },
   "file_extension": ".py",
   "mimetype": "text/x-python",
   "name": "python",
   "nbconvert_exporter": "python",
   "pygments_lexer": "ipython3",
   "version": "3.11.10"
  }
 },
 "nbformat": 4,
 "nbformat_minor": 2
}
